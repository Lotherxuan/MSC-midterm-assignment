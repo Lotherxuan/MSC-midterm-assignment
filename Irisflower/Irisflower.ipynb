{
 "nbformat": 4,
 "nbformat_minor": 2,
 "metadata": {
  "language_info": {
   "name": "python",
   "codemirror_mode": {
    "name": "ipython",
    "version": 3
   },
   "version": "3.7.4"
  },
  "orig_nbformat": 2,
  "file_extension": ".py",
  "mimetype": "text/x-python",
  "name": "python",
  "npconvert_exporter": "python",
  "pygments_lexer": "ipython3",
  "version": 3
 },
 "cells": [
  {
   "cell_type": "code",
   "execution_count": 216,
   "metadata": {},
   "outputs": [],
   "source": [
    "import numpy as np\n",
    "import matplotlib.pyplot as plt\n",
    "import pandas as pd\n",
    "from sklearn.datasets import load_iris"
   ]
  },
  {
   "cell_type": "code",
   "execution_count": 217,
   "metadata": {},
   "outputs": [],
   "source": [
    "dataset=load_iris()\n",
    "dataset['data']\n",
    "data=np.random.permutation(dataset['data'])\n",
    "label=np.random.permutation(dataset['target'])\n",
    "train_data=data[0:120]\n",
    "train_label=label[0:120]\n",
    "test_data=data[120:150]\n",
    "test_label=label[120:150]"
   ]
  },
  {
   "cell_type": "code",
   "execution_count": 218,
   "metadata": {},
   "outputs": [
    {
     "data": {
      "text/plain": "array([[6.4, 2.8, 5.6, 2.2],\n       [5.1, 3.8, 1.5, 0.3],\n       [6.1, 2.8, 4. , 1.3],\n       [5.8, 2.6, 4. , 1.2],\n       [6.3, 3.3, 4.7, 1.6],\n       [6. , 2.9, 4.5, 1.5],\n       [7.2, 3.6, 6.1, 2.5],\n       [4.4, 3. , 1.3, 0.2],\n       [6.3, 2.8, 5.1, 1.5],\n       [6.2, 3.4, 5.4, 2.3],\n       [6.7, 3.3, 5.7, 2.5],\n       [6. , 2.2, 5. , 1.5],\n       [5.5, 4.2, 1.4, 0.2],\n       [5.5, 2.3, 4. , 1.3],\n       [5.1, 3.4, 1.5, 0.2],\n       [5.6, 2.7, 4.2, 1.3],\n       [4.6, 3.4, 1.4, 0.3],\n       [6.9, 3.1, 4.9, 1.5],\n       [4.8, 3. , 1.4, 0.3],\n       [5.9, 3.2, 4.8, 1.8],\n       [6.9, 3.1, 5.4, 2.1],\n       [5.8, 2.7, 4.1, 1. ],\n       [6.3, 2.7, 4.9, 1.8],\n       [4.8, 3.4, 1.9, 0.2],\n       [5.4, 3.4, 1.5, 0.4],\n       [6.8, 2.8, 4.8, 1.4],\n       [5.4, 3.4, 1.7, 0.2],\n       [5.1, 3.5, 1.4, 0.2],\n       [4.8, 3.1, 1.6, 0.2],\n       [4.7, 3.2, 1.3, 0.2],\n       [7.9, 3.8, 6.4, 2. ],\n       [6.7, 3.1, 4.4, 1.4],\n       [5.5, 2.4, 3.7, 1. ],\n       [6. , 3. , 4.8, 1.8],\n       [5.6, 3. , 4.5, 1.5],\n       [6.4, 3.1, 5.5, 1.8],\n       [4.9, 3. , 1.4, 0.2],\n       [6. , 2.2, 4. , 1. ],\n       [6.9, 3.1, 5.1, 2.3],\n       [5.6, 2.9, 3.6, 1.3],\n       [4.6, 3.6, 1. , 0.2],\n       [4.8, 3.4, 1.6, 0.2],\n       [5.7, 3.8, 1.7, 0.3],\n       [6.3, 3.3, 6. , 2.5],\n       [4.3, 3. , 1.1, 0.1],\n       [7.3, 2.9, 6.3, 1.8],\n       [5.1, 3.8, 1.9, 0.4],\n       [6.7, 2.5, 5.8, 1.8],\n       [6.1, 3. , 4.9, 1.8],\n       [6.4, 2.7, 5.3, 1.9],\n       [6.6, 3. , 4.4, 1.4],\n       [5. , 3.2, 1.2, 0.2],\n       [5.1, 3.8, 1.6, 0.2],\n       [6.6, 2.9, 4.6, 1.3],\n       [4.9, 2.5, 4.5, 1.7],\n       [5. , 3.5, 1.6, 0.6],\n       [6.2, 2.9, 4.3, 1.3],\n       [4.4, 2.9, 1.4, 0.2],\n       [5.3, 3.7, 1.5, 0.2],\n       [6.4, 2.8, 5.6, 2.1],\n       [6.7, 3.1, 4.7, 1.5],\n       [5. , 3.4, 1.5, 0.2],\n       [5.4, 3.9, 1.7, 0.4],\n       [5.7, 2.8, 4.5, 1.3],\n       [6.9, 3.2, 5.7, 2.3],\n       [5.5, 2.4, 3.8, 1.1],\n       [6.3, 2.5, 5. , 1.9],\n       [4.8, 3. , 1.4, 0.1],\n       [6. , 3.4, 4.5, 1.6],\n       [6.7, 3.1, 5.6, 2.4],\n       [5.4, 3. , 4.5, 1.5],\n       [6.3, 2.5, 4.9, 1.5],\n       [5.5, 2.6, 4.4, 1.2],\n       [5.4, 3.9, 1.3, 0.4],\n       [6.1, 2.8, 4.7, 1.2],\n       [5. , 3. , 1.6, 0.2],\n       [5.1, 3.3, 1.7, 0.5],\n       [4.7, 3.2, 1.6, 0.2],\n       [6.3, 3.4, 5.6, 2.4],\n       [5.7, 2.9, 4.2, 1.3],\n       [6.3, 2.9, 5.6, 1.8],\n       [6.7, 3.3, 5.7, 2.1],\n       [6.7, 3. , 5. , 1.7],\n       [5.2, 3.5, 1.5, 0.2],\n       [5.5, 2.5, 4. , 1.3],\n       [6.1, 2.6, 5.6, 1.4],\n       [5.6, 2.5, 3.9, 1.1],\n       [7.6, 3. , 6.6, 2.1],\n       [4.9, 3.1, 1.5, 0.2],\n       [5.7, 2.6, 3.5, 1. ],\n       [4.4, 3.2, 1.3, 0.2],\n       [6.5, 3. , 5.8, 2.2],\n       [4.9, 2.4, 3.3, 1. ],\n       [5.8, 4. , 1.2, 0.2],\n       [5.2, 4.1, 1.5, 0.1],\n       [6.8, 3. , 5.5, 2.1],\n       [5.7, 4.4, 1.5, 0.4],\n       [5.5, 3.5, 1.3, 0.2],\n       [6.2, 2.2, 4.5, 1.5],\n       [5.1, 2.5, 3. , 1.1],\n       [5. , 3.3, 1.4, 0.2],\n       [6.2, 2.8, 4.8, 1.8],\n       [7.2, 3.2, 6. , 1.8],\n       [5. , 2. , 3.5, 1. ],\n       [7.4, 2.8, 6.1, 1.9],\n       [5.6, 3. , 4.1, 1.3],\n       [6.7, 3. , 5.2, 2.3],\n       [5.7, 2.8, 4.1, 1.3],\n       [5.8, 2.8, 5.1, 2.4],\n       [6.1, 3. , 4.6, 1.4],\n       [7.7, 3. , 6.1, 2.3],\n       [5.8, 2.7, 5.1, 1.9],\n       [5.2, 2.7, 3.9, 1.4],\n       [7. , 3.2, 4.7, 1.4],\n       [5.8, 2.7, 3.9, 1.2],\n       [6.4, 3.2, 5.3, 2.3],\n       [5.7, 3. , 4.2, 1.2],\n       [6.8, 3.2, 5.9, 2.3],\n       [5. , 3.5, 1.3, 0.3],\n       [5.6, 2.8, 4.9, 2. ]])"
     },
     "execution_count": 218,
     "metadata": {},
     "output_type": "execute_result"
    }
   ],
   "source": [
    "train_data"
   ]
  },
  {
   "cell_type": "code",
   "execution_count": 219,
   "metadata": {},
   "outputs": [
    {
     "data": {
      "text/plain": "array([0, 1, 1, 1, 1, 2, 2, 2, 1, 2, 0, 1, 1, 0, 0, 0, 1, 2, 1, 2, 2, 2,\n       0, 2, 0, 0, 0, 2, 0, 1, 2, 1, 1, 1, 2, 0, 0, 2, 1, 0, 0, 1, 1, 0,\n       0, 0, 1, 2, 2, 2, 1, 1, 1, 1, 0, 0, 2, 2, 0, 0, 2, 2, 1, 0, 1, 1,\n       0, 0, 0, 1, 1, 2, 2, 2, 0, 1, 2, 2, 0, 1, 1, 1, 2, 2, 0, 2, 2, 0,\n       1, 2, 0, 1, 0, 1, 2, 0, 2, 2, 1, 1, 1, 2, 2, 0, 0, 1, 1, 2, 2, 2,\n       2, 0, 0, 1, 2, 1, 0, 0, 1, 0])"
     },
     "execution_count": 219,
     "metadata": {},
     "output_type": "execute_result"
    }
   ],
   "source": [
    "train_label"
   ]
  },
  {
   "cell_type": "code",
   "execution_count": 220,
   "metadata": {},
   "outputs": [],
   "source": [
    "class NeuralNet(object):\n",
    "    def __init__(self,eta=0.1,batchsize=1,epoch=5,eps=1e-5,inputsize=1,outputsize=1):\n",
    "        self.eta=eta\n",
    "        self.W=np.zeros((inputsize,outputsize))\n",
    "        self.B=np.zeros((1,outputsize))\n",
    "        self.batchsize=batchsize\n",
    "        self.epoch=epoch\n",
    "        self.eps=eps\n",
    "        self.inputsize=inputsize\n",
    "        self.outputsize=outputsize\n",
    "        self.loss=[]\n",
    "        self.xmax=0\n",
    "        self.xmin=0\n",
    "        self.ymax=0\n",
    "        self.ymin=0\n",
    "    def __forword(self,X):\n",
    "        Z=np.dot(X,self.W)+self.B\n",
    "        A=self.__softmax(Z)\n",
    "        return A\n",
    "    def __backword(self,X,Y):\n",
    "        #todo:反向传播的时候是否除以批样本大小\n",
    "        dZ=self.__forword(X)-Y\n",
    "        dB=dZ.sum(axis=0,keepdims=True)/self.batchsize\n",
    "        dW=np.dot(X.T,dZ)/self.batchsize\n",
    "        return dW,dB\n",
    "    def __update(self,dW,dB):\n",
    "        self.W=self.W-dW*self.eta\n",
    "        self.B=self.B-dB*self.eta\n",
    "    def trainwithoutnor(self,data,label):\n",
    "        for i in range(int(len(data)*self.epoch/self.batchsize)):\n",
    "            I=int(i*self.batchsize%len(data))\n",
    "            X=np.array(data[I:I+self.batchsize])\n",
    "            Y=np.array(label[I:I+self.batchsize])\n",
    "            A=self.__forword(X)\n",
    "            Loss=self.lossfunction(Y,A)\n",
    "            self.loss.append(Loss)\n",
    "            if Loss>self.eps:\n",
    "                dW,dB=self.__backword(X,Y)\n",
    "                self.__update(dW,dB)\n",
    "    def train(self,data,label):\n",
    "        self.__getxmaxandmin(data)\n",
    "        self.__getymaxandmin(label)\n",
    "        for i in range(int(len(data)*self.epoch/self.batchsize)):\n",
    "            I=int(i*self.batchsize%len(data))\n",
    "            X1=np.array(data[I:I+self.batchsize])\n",
    "            X=self.nomornalize(self.xmax,self.xmin,X1)\n",
    "            Y1=np.array(label[I:I+self.batchsize])\n",
    "            Y=self.nomornalize(self.ymax,self.ymin,Y1)\n",
    "            A=self.__forword(X)\n",
    "            Loss=self.lossfunction(Y,A)\n",
    "            self.loss.append(Loss)\n",
    "            if Loss>self.eps:\n",
    "                dW,dB=self.__backword(X,Y)\n",
    "                self.__update(dW,dB)\n",
    "    def __getxmaxandmin(self,data):\n",
    "        self.xmax=np.amax(data,axis=0)\n",
    "        self.xmin=np.amin(data,axis=0)\n",
    "    def __getymaxandmin(self,data):\n",
    "        self.ymax=np.max(data)\n",
    "        self.ymin=np.min(data)\n",
    "    def nomornalize(self,max,min,x):\n",
    "        return (x-min)/(max-min)\n",
    "    def denomornalize(self,max,min,x):\n",
    "        return x*(max-min)+min\n",
    "    def inferencewithoutnor(self,X):\n",
    "        if X.shape[0]!=1:\n",
    "            nomornalz1=X*self.W+self.B\n",
    "            nomornalz=self.__softmax(nomornalz1)\n",
    "        else:\n",
    "            nomornalz=self.__forword(X)\n",
    "        return nomornalz\n",
    "    def inference(self,X):\n",
    "        nomornalz=self.inferencewithoutnor(X)       \n",
    "        return self.denomornalize(self.ymax,self.ymin,nomornalz)\n",
    "    def logistic(self,z):\n",
    "        a=1.0/(1.0+np.exp(-z))\n",
    "        return a\n",
    "    def lossfunction(self,Y,A):\n",
    "        p1=np.log(A)\n",
    "        p2=np.multiply(Y,p1)\n",
    "        Loss=-np.sum(p2)\n",
    "        loss=Loss/self.batchsize\n",
    "        return loss\n",
    "    def __softmax(self,Z):\n",
    "        shift_Z=Z-np.max(Z,axis=1,keepdims=True)\n",
    "        exp_Z=np.exp(shift_Z)\n",
    "        A=exp_Z/np.sum(exp_Z,axis=1,keepdims=True)\n",
    "        return A\n",
    "    def onehot(self,label):\n",
    "        new_label=np.zeros((int(label.shape[0]),3))\n",
    "        for i in range(label.shape[0]):\n",
    "            n=(int)(label[i])\n",
    "            new_label[i,n]=1\n",
    "        return new_label\n"
   ]
  },
  {
   "cell_type": "code",
   "execution_count": 233,
   "metadata": {},
   "outputs": [
    {
     "name": "stdout",
     "output_type": "stream",
     "text": "[[-0.08627225  0.07225286  0.01401939]\n [-0.0212715   0.04595384 -0.02468234]\n [ 0.09664238 -0.14405327  0.04741089]\n [ 0.07366765  0.01980801 -0.09347566]]\n[[ 0.06384046 -0.01723637 -0.04660409]]\n[2 2 0 1 2 0 0 1 2 0 0 1 0 0 0 2 2 0 1 1 2 0 0 2 1 1 1 2 1 2]\n[0 0 0 1 0 2 1 0 2 0 1 1 2 1 0 0 2 1 2 0 1 1 0 2 1 1 1 2 0 2]\n0.4666666666666667\n"
    },
    {
     "data": {
      "text/plain": "[<matplotlib.lines.Line2D at 0x16ec169ec08>]"
     },
     "execution_count": 233,
     "metadata": {},
     "output_type": "execute_result"
    },
    {
     "data": {
      "image/png": "[encoded data removed]",
      "image/svg+xml": "<?xml version=\"1.0\" encoding=\"utf-8\" standalone=\"no\"?>\r\n<!DOCTYPE svg PUBLIC \"-//W3C//DTD SVG 1.1//EN\"\r\n  \"http://www.w3.org/Graphics/SVG/1.1/DTD/svg11.dtd\">\r\n<!-- Created with matplotlib (https://matplotlib.org/) -->\r\n<svg height=\"248.518125pt\" version=\"1.1\" viewBox=\"0 0 380.105241 248.518125\" width=\"380.105241pt\" xmlns=\"http://www.w3.org/2000/svg\" xmlns:xlink=\"http://www.w3.org/1999/xlink\">\r\n <defs>\r\n  <style type=\"text/css\">\r\n*{stroke-linecap:butt;stroke-linejoin:round;}\r\n  </style>\r\n </defs>\r\n <g id=\"figure_1\">\r\n  <g id=\"patch_1\">\r\n   <path d=\"M 0 248.518125 \r\nL 380.105241 248.518125 \r\nL 380.105241 0 \r\nL 0 0 \r\nz\r\n\" style=\"fill:none;\"/>\r\n  </g>\r\n  <g id=\"axes_1\">\r\n   <g id=\"patch_2\">\r\n    <path d=\"M 36.465625 224.64 \r\nL 371.265625 224.64 \r\nL 371.265625 7.2 \r\nL 36.465625 7.2 \r\nz\r\n\" style=\"fill:#ffffff;\"/>\r\n   </g>\r\n   <g id=\"matplotlib.axis_1\">\r\n    <g id=\"xtick_1\">\r\n     <g id=\"line2d_1\">\r\n      <defs>\r\n       <path d=\"M 0 0 \r\nL 0 3.5 \r\n\" id=\"ma64d9dbdcc\" style=\"stroke:#000000;stroke-width:0.8;\"/>\r\n      </defs>\r\n      <g>\r\n       <use style=\"stroke:#000000;stroke-width:0.8;\" x=\"51.683807\" xlink:href=\"#ma64d9dbdcc\" y=\"224.64\"/>\r\n      </g>\r\n     </g>\r\n     <g id=\"text_1\">\r\n      <!-- 0 -->\r\n      <defs>\r\n       <path d=\"M 31.78125 66.40625 \r\nQ 24.171875 66.40625 20.328125 58.90625 \r\nQ 16.5 51.421875 16.5 36.375 \r\nQ 16.5 21.390625 20.328125 13.890625 \r\nQ 24.171875 6.390625 31.78125 6.390625 \r\nQ 39.453125 6.390625 43.28125 13.890625 \r\nQ 47.125 21.390625 47.125 36.375 \r\nQ 47.125 51.421875 43.28125 58.90625 \r\nQ 39.453125 66.40625 31.78125 66.40625 \r\nz\r\nM 31.78125 74.21875 \r\nQ 44.046875 74.21875 50.515625 64.515625 \r\nQ 56.984375 54.828125 56.984375 36.375 \r\nQ 56.984375 17.96875 50.515625 8.265625 \r\nQ 44.046875 -1.421875 31.78125 -1.421875 \r\nQ 19.53125 -1.421875 13.0625 8.265625 \r\nQ 6.59375 17.96875 6.59375 36.375 \r\nQ 6.59375 54.828125 13.0625 64.515625 \r\nQ 19.53125 74.21875 31.78125 74.21875 \r\nz\r\n\" id=\"DejaVuSans-48\"/>\r\n      </defs>\r\n      <g transform=\"translate(48.502557 239.238437)scale(0.1 -0.1)\">\r\n       <use xlink:href=\"#DejaVuSans-48\"/>\r\n      </g>\r\n     </g>\r\n    </g>\r\n    <g id=\"xtick_2\">\r\n     <g id=\"line2d_2\">\r\n      <g>\r\n       <use style=\"stroke:#000000;stroke-width:0.8;\" x=\"104.160296\" xlink:href=\"#ma64d9dbdcc\" y=\"224.64\"/>\r\n      </g>\r\n     </g>\r\n     <g id=\"text_2\">\r\n      <!-- 5 -->\r\n      <defs>\r\n       <path d=\"M 10.796875 72.90625 \r\nL 49.515625 72.90625 \r\nL 49.515625 64.59375 \r\nL 19.828125 64.59375 \r\nL 19.828125 46.734375 \r\nQ 21.96875 47.46875 24.109375 47.828125 \r\nQ 26.265625 48.1875 28.421875 48.1875 \r\nQ 40.625 48.1875 47.75 41.5 \r\nQ 54.890625 34.8125 54.890625 23.390625 \r\nQ 54.890625 11.625 47.5625 5.09375 \r\nQ 40.234375 -1.421875 26.90625 -1.421875 \r\nQ 22.3125 -1.421875 17.546875 -0.640625 \r\nQ 12.796875 0.140625 7.71875 1.703125 \r\nL 7.71875 11.625 \r\nQ 12.109375 9.234375 16.796875 8.0625 \r\nQ 21.484375 6.890625 26.703125 6.890625 \r\nQ 35.15625 6.890625 40.078125 11.328125 \r\nQ 45.015625 15.765625 45.015625 23.390625 \r\nQ 45.015625 31 40.078125 35.4375 \r\nQ 35.15625 39.890625 26.703125 39.890625 \r\nQ 22.75 39.890625 18.8125 39.015625 \r\nQ 14.890625 38.140625 10.796875 36.28125 \r\nz\r\n\" id=\"DejaVuSans-53\"/>\r\n      </defs>\r\n      <g transform=\"translate(100.979046 239.238437)scale(0.1 -0.1)\">\r\n       <use xlink:href=\"#DejaVuSans-53\"/>\r\n      </g>\r\n     </g>\r\n    </g>\r\n    <g id=\"xtick_3\">\r\n     <g id=\"line2d_3\">\r\n      <g>\r\n       <use style=\"stroke:#000000;stroke-width:0.8;\" x=\"156.636785\" xlink:href=\"#ma64d9dbdcc\" y=\"224.64\"/>\r\n      </g>\r\n     </g>\r\n     <g id=\"text_3\">\r\n      <!-- 10 -->\r\n      <defs>\r\n       <path d=\"M 12.40625 8.296875 \r\nL 28.515625 8.296875 \r\nL 28.515625 63.921875 \r\nL 10.984375 60.40625 \r\nL 10.984375 69.390625 \r\nL 28.421875 72.90625 \r\nL 38.28125 72.90625 \r\nL 38.28125 8.296875 \r\nL 54.390625 8.296875 \r\nL 54.390625 0 \r\nL 12.40625 0 \r\nz\r\n\" id=\"DejaVuSans-49\"/>\r\n      </defs>\r\n      <g transform=\"translate(150.274285 239.238437)scale(0.1 -0.1)\">\r\n       <use xlink:href=\"#DejaVuSans-49\"/>\r\n       <use x=\"63.623047\" xlink:href=\"#DejaVuSans-48\"/>\r\n      </g>\r\n     </g>\r\n    </g>\r\n    <g id=\"xtick_4\">\r\n     <g id=\"line2d_4\">\r\n      <g>\r\n       <use style=\"stroke:#000000;stroke-width:0.8;\" x=\"209.113274\" xlink:href=\"#ma64d9dbdcc\" y=\"224.64\"/>\r\n      </g>\r\n     </g>\r\n     <g id=\"text_4\">\r\n      <!-- 15 -->\r\n      <g transform=\"translate(202.750774 239.238437)scale(0.1 -0.1)\">\r\n       <use xlink:href=\"#DejaVuSans-49\"/>\r\n       <use x=\"63.623047\" xlink:href=\"#DejaVuSans-53\"/>\r\n      </g>\r\n     </g>\r\n    </g>\r\n    <g id=\"xtick_5\">\r\n     <g id=\"line2d_5\">\r\n      <g>\r\n       <use style=\"stroke:#000000;stroke-width:0.8;\" x=\"261.589763\" xlink:href=\"#ma64d9dbdcc\" y=\"224.64\"/>\r\n      </g>\r\n     </g>\r\n     <g id=\"text_5\">\r\n      <!-- 20 -->\r\n      <defs>\r\n       <path d=\"M 19.1875 8.296875 \r\nL 53.609375 8.296875 \r\nL 53.609375 0 \r\nL 7.328125 0 \r\nL 7.328125 8.296875 \r\nQ 12.9375 14.109375 22.625 23.890625 \r\nQ 32.328125 33.6875 34.8125 36.53125 \r\nQ 39.546875 41.84375 41.421875 45.53125 \r\nQ 43.3125 49.21875 43.3125 52.78125 \r\nQ 43.3125 58.59375 39.234375 62.25 \r\nQ 35.15625 65.921875 28.609375 65.921875 \r\nQ 23.96875 65.921875 18.8125 64.3125 \r\nQ 13.671875 62.703125 7.8125 59.421875 \r\nL 7.8125 69.390625 \r\nQ 13.765625 71.78125 18.9375 73 \r\nQ 24.125 74.21875 28.421875 74.21875 \r\nQ 39.75 74.21875 46.484375 68.546875 \r\nQ 53.21875 62.890625 53.21875 53.421875 \r\nQ 53.21875 48.921875 51.53125 44.890625 \r\nQ 49.859375 40.875 45.40625 35.40625 \r\nQ 44.1875 33.984375 37.640625 27.21875 \r\nQ 31.109375 20.453125 19.1875 8.296875 \r\nz\r\n\" id=\"DejaVuSans-50\"/>\r\n      </defs>\r\n      <g transform=\"translate(255.227263 239.238437)scale(0.1 -0.1)\">\r\n       <use xlink:href=\"#DejaVuSans-50\"/>\r\n       <use x=\"63.623047\" xlink:href=\"#DejaVuSans-48\"/>\r\n      </g>\r\n     </g>\r\n    </g>\r\n    <g id=\"xtick_6\">\r\n     <g id=\"line2d_6\">\r\n      <g>\r\n       <use style=\"stroke:#000000;stroke-width:0.8;\" x=\"314.066252\" xlink:href=\"#ma64d9dbdcc\" y=\"224.64\"/>\r\n      </g>\r\n     </g>\r\n     <g id=\"text_6\">\r\n      <!-- 25 -->\r\n      <g transform=\"translate(307.703752 239.238437)scale(0.1 -0.1)\">\r\n       <use xlink:href=\"#DejaVuSans-50\"/>\r\n       <use x=\"63.623047\" xlink:href=\"#DejaVuSans-53\"/>\r\n      </g>\r\n     </g>\r\n    </g>\r\n    <g id=\"xtick_7\">\r\n     <g id=\"line2d_7\">\r\n      <g>\r\n       <use style=\"stroke:#000000;stroke-width:0.8;\" x=\"366.542741\" xlink:href=\"#ma64d9dbdcc\" y=\"224.64\"/>\r\n      </g>\r\n     </g>\r\n     <g id=\"text_7\">\r\n      <!-- 30 -->\r\n      <defs>\r\n       <path d=\"M 40.578125 39.3125 \r\nQ 47.65625 37.796875 51.625 33 \r\nQ 55.609375 28.21875 55.609375 21.1875 \r\nQ 55.609375 10.40625 48.1875 4.484375 \r\nQ 40.765625 -1.421875 27.09375 -1.421875 \r\nQ 22.515625 -1.421875 17.65625 -0.515625 \r\nQ 12.796875 0.390625 7.625 2.203125 \r\nL 7.625 11.71875 \r\nQ 11.71875 9.328125 16.59375 8.109375 \r\nQ 21.484375 6.890625 26.8125 6.890625 \r\nQ 36.078125 6.890625 40.9375 10.546875 \r\nQ 45.796875 14.203125 45.796875 21.1875 \r\nQ 45.796875 27.640625 41.28125 31.265625 \r\nQ 36.765625 34.90625 28.71875 34.90625 \r\nL 20.21875 34.90625 \r\nL 20.21875 43.015625 \r\nL 29.109375 43.015625 \r\nQ 36.375 43.015625 40.234375 45.921875 \r\nQ 44.09375 48.828125 44.09375 54.296875 \r\nQ 44.09375 59.90625 40.109375 62.90625 \r\nQ 36.140625 65.921875 28.71875 65.921875 \r\nQ 24.65625 65.921875 20.015625 65.03125 \r\nQ 15.375 64.15625 9.8125 62.3125 \r\nL 9.8125 71.09375 \r\nQ 15.4375 72.65625 20.34375 73.4375 \r\nQ 25.25 74.21875 29.59375 74.21875 \r\nQ 40.828125 74.21875 47.359375 69.109375 \r\nQ 53.90625 64.015625 53.90625 55.328125 \r\nQ 53.90625 49.265625 50.4375 45.09375 \r\nQ 46.96875 40.921875 40.578125 39.3125 \r\nz\r\n\" id=\"DejaVuSans-51\"/>\r\n      </defs>\r\n      <g transform=\"translate(360.180241 239.238437)scale(0.1 -0.1)\">\r\n       <use xlink:href=\"#DejaVuSans-51\"/>\r\n       <use x=\"63.623047\" xlink:href=\"#DejaVuSans-48\"/>\r\n      </g>\r\n     </g>\r\n    </g>\r\n   </g>\r\n   <g id=\"matplotlib.axis_2\">\r\n    <g id=\"ytick_1\">\r\n     <g id=\"line2d_8\">\r\n      <defs>\r\n       <path d=\"M 0 0 \r\nL -3.5 0 \r\n\" id=\"m288bda5393\" style=\"stroke:#000000;stroke-width:0.8;\"/>\r\n      </defs>\r\n      <g>\r\n       <use style=\"stroke:#000000;stroke-width:0.8;\" x=\"36.465625\" xlink:href=\"#m288bda5393\" y=\"214.756364\"/>\r\n      </g>\r\n     </g>\r\n     <g id=\"text_8\">\r\n      <!-- 0.00 -->\r\n      <defs>\r\n       <path d=\"M 10.6875 12.40625 \r\nL 21 12.40625 \r\nL 21 0 \r\nL 10.6875 0 \r\nz\r\n\" id=\"DejaVuSans-46\"/>\r\n      </defs>\r\n      <g transform=\"translate(7.2 218.555582)scale(0.1 -0.1)\">\r\n       <use xlink:href=\"#DejaVuSans-48\"/>\r\n       <use x=\"63.623047\" xlink:href=\"#DejaVuSans-46\"/>\r\n       <use x=\"95.410156\" xlink:href=\"#DejaVuSans-48\"/>\r\n       <use x=\"159.033203\" xlink:href=\"#DejaVuSans-48\"/>\r\n      </g>\r\n     </g>\r\n    </g>\r\n    <g id=\"ytick_2\">\r\n     <g id=\"line2d_9\">\r\n      <g>\r\n       <use style=\"stroke:#000000;stroke-width:0.8;\" x=\"36.465625\" xlink:href=\"#m288bda5393\" y=\"190.047273\"/>\r\n      </g>\r\n     </g>\r\n     <g id=\"text_9\">\r\n      <!-- 0.25 -->\r\n      <g transform=\"translate(7.2 193.846491)scale(0.1 -0.1)\">\r\n       <use xlink:href=\"#DejaVuSans-48\"/>\r\n       <use x=\"63.623047\" xlink:href=\"#DejaVuSans-46\"/>\r\n       <use x=\"95.410156\" xlink:href=\"#DejaVuSans-50\"/>\r\n       <use x=\"159.033203\" xlink:href=\"#DejaVuSans-53\"/>\r\n      </g>\r\n     </g>\r\n    </g>\r\n    <g id=\"ytick_3\">\r\n     <g id=\"line2d_10\">\r\n      <g>\r\n       <use style=\"stroke:#000000;stroke-width:0.8;\" x=\"36.465625\" xlink:href=\"#m288bda5393\" y=\"165.338182\"/>\r\n      </g>\r\n     </g>\r\n     <g id=\"text_10\">\r\n      <!-- 0.50 -->\r\n      <g transform=\"translate(7.2 169.137401)scale(0.1 -0.1)\">\r\n       <use xlink:href=\"#DejaVuSans-48\"/>\r\n       <use x=\"63.623047\" xlink:href=\"#DejaVuSans-46\"/>\r\n       <use x=\"95.410156\" xlink:href=\"#DejaVuSans-53\"/>\r\n       <use x=\"159.033203\" xlink:href=\"#DejaVuSans-48\"/>\r\n      </g>\r\n     </g>\r\n    </g>\r\n    <g id=\"ytick_4\">\r\n     <g id=\"line2d_11\">\r\n      <g>\r\n       <use style=\"stroke:#000000;stroke-width:0.8;\" x=\"36.465625\" xlink:href=\"#m288bda5393\" y=\"140.629091\"/>\r\n      </g>\r\n     </g>\r\n     <g id=\"text_11\">\r\n      <!-- 0.75 -->\r\n      <defs>\r\n       <path d=\"M 8.203125 72.90625 \r\nL 55.078125 72.90625 \r\nL 55.078125 68.703125 \r\nL 28.609375 0 \r\nL 18.3125 0 \r\nL 43.21875 64.59375 \r\nL 8.203125 64.59375 \r\nz\r\n\" id=\"DejaVuSans-55\"/>\r\n      </defs>\r\n      <g transform=\"translate(7.2 144.42831)scale(0.1 -0.1)\">\r\n       <use xlink:href=\"#DejaVuSans-48\"/>\r\n       <use x=\"63.623047\" xlink:href=\"#DejaVuSans-46\"/>\r\n       <use x=\"95.410156\" xlink:href=\"#DejaVuSans-55\"/>\r\n       <use x=\"159.033203\" xlink:href=\"#DejaVuSans-53\"/>\r\n      </g>\r\n     </g>\r\n    </g>\r\n    <g id=\"ytick_5\">\r\n     <g id=\"line2d_12\">\r\n      <g>\r\n       <use style=\"stroke:#000000;stroke-width:0.8;\" x=\"36.465625\" xlink:href=\"#m288bda5393\" y=\"115.92\"/>\r\n      </g>\r\n     </g>\r\n     <g id=\"text_12\">\r\n      <!-- 1.00 -->\r\n      <g transform=\"translate(7.2 119.719219)scale(0.1 -0.1)\">\r\n       <use xlink:href=\"#DejaVuSans-49\"/>\r\n       <use x=\"63.623047\" xlink:href=\"#DejaVuSans-46\"/>\r\n       <use x=\"95.410156\" xlink:href=\"#DejaVuSans-48\"/>\r\n       <use x=\"159.033203\" xlink:href=\"#DejaVuSans-48\"/>\r\n      </g>\r\n     </g>\r\n    </g>\r\n    <g id=\"ytick_6\">\r\n     <g id=\"line2d_13\">\r\n      <g>\r\n       <use style=\"stroke:#000000;stroke-width:0.8;\" x=\"36.465625\" xlink:href=\"#m288bda5393\" y=\"91.210909\"/>\r\n      </g>\r\n     </g>\r\n     <g id=\"text_13\">\r\n      <!-- 1.25 -->\r\n      <g transform=\"translate(7.2 95.010128)scale(0.1 -0.1)\">\r\n       <use xlink:href=\"#DejaVuSans-49\"/>\r\n       <use x=\"63.623047\" xlink:href=\"#DejaVuSans-46\"/>\r\n       <use x=\"95.410156\" xlink:href=\"#DejaVuSans-50\"/>\r\n       <use x=\"159.033203\" xlink:href=\"#DejaVuSans-53\"/>\r\n      </g>\r\n     </g>\r\n    </g>\r\n    <g id=\"ytick_7\">\r\n     <g id=\"line2d_14\">\r\n      <g>\r\n       <use style=\"stroke:#000000;stroke-width:0.8;\" x=\"36.465625\" xlink:href=\"#m288bda5393\" y=\"66.501818\"/>\r\n      </g>\r\n     </g>\r\n     <g id=\"text_14\">\r\n      <!-- 1.50 -->\r\n      <g transform=\"translate(7.2 70.301037)scale(0.1 -0.1)\">\r\n       <use xlink:href=\"#DejaVuSans-49\"/>\r\n       <use x=\"63.623047\" xlink:href=\"#DejaVuSans-46\"/>\r\n       <use x=\"95.410156\" xlink:href=\"#DejaVuSans-53\"/>\r\n       <use x=\"159.033203\" xlink:href=\"#DejaVuSans-48\"/>\r\n      </g>\r\n     </g>\r\n    </g>\r\n    <g id=\"ytick_8\">\r\n     <g id=\"line2d_15\">\r\n      <g>\r\n       <use style=\"stroke:#000000;stroke-width:0.8;\" x=\"36.465625\" xlink:href=\"#m288bda5393\" y=\"41.792727\"/>\r\n      </g>\r\n     </g>\r\n     <g id=\"text_15\">\r\n      <!-- 1.75 -->\r\n      <g transform=\"translate(7.2 45.591946)scale(0.1 -0.1)\">\r\n       <use xlink:href=\"#DejaVuSans-49\"/>\r\n       <use x=\"63.623047\" xlink:href=\"#DejaVuSans-46\"/>\r\n       <use x=\"95.410156\" xlink:href=\"#DejaVuSans-55\"/>\r\n       <use x=\"159.033203\" xlink:href=\"#DejaVuSans-53\"/>\r\n      </g>\r\n     </g>\r\n    </g>\r\n    <g id=\"ytick_9\">\r\n     <g id=\"line2d_16\">\r\n      <g>\r\n       <use style=\"stroke:#000000;stroke-width:0.8;\" x=\"36.465625\" xlink:href=\"#m288bda5393\" y=\"17.083636\"/>\r\n      </g>\r\n     </g>\r\n     <g id=\"text_16\">\r\n      <!-- 2.00 -->\r\n      <g transform=\"translate(7.2 20.882855)scale(0.1 -0.1)\">\r\n       <use xlink:href=\"#DejaVuSans-50\"/>\r\n       <use x=\"63.623047\" xlink:href=\"#DejaVuSans-46\"/>\r\n       <use x=\"95.410156\" xlink:href=\"#DejaVuSans-48\"/>\r\n       <use x=\"159.033203\" xlink:href=\"#DejaVuSans-48\"/>\r\n      </g>\r\n     </g>\r\n    </g>\r\n   </g>\r\n   <g id=\"line2d_17\">\r\n    <defs>\r\n     <path d=\"M 0 1.5 \r\nC 0.397805 1.5 0.77937 1.341951 1.06066 1.06066 \r\nC 1.341951 0.77937 1.5 0.397805 1.5 0 \r\nC 1.5 -0.397805 1.341951 -0.77937 1.06066 -1.06066 \r\nC 0.77937 -1.341951 0.397805 -1.5 0 -1.5 \r\nC -0.397805 -1.5 -0.77937 -1.341951 -1.06066 -1.06066 \r\nC -1.341951 -0.77937 -1.5 -0.397805 -1.5 0 \r\nC -1.5 0.397805 -1.341951 0.77937 -1.06066 1.06066 \r\nC -0.77937 1.341951 -0.397805 1.5 0 1.5 \r\nz\r\n\" id=\"mb70658af13\" style=\"stroke:#ff0000;\"/>\r\n    </defs>\r\n    <g clip-path=\"url(#pdc8aefebbe)\">\r\n     <use style=\"fill:#ff0000;stroke:#ff0000;\" x=\"51.683807\" xlink:href=\"#mb70658af13\" y=\"17.083636\"/>\r\n     <use style=\"fill:#ff0000;stroke:#ff0000;\" x=\"62.179105\" xlink:href=\"#mb70658af13\" y=\"17.083636\"/>\r\n     <use style=\"fill:#ff0000;stroke:#ff0000;\" x=\"72.674402\" xlink:href=\"#mb70658af13\" y=\"214.756364\"/>\r\n     <use style=\"fill:#ff0000;stroke:#ff0000;\" x=\"83.1697\" xlink:href=\"#mb70658af13\" y=\"115.92\"/>\r\n     <use style=\"fill:#ff0000;stroke:#ff0000;\" x=\"93.664998\" xlink:href=\"#mb70658af13\" y=\"17.083636\"/>\r\n     <use style=\"fill:#ff0000;stroke:#ff0000;\" x=\"104.160296\" xlink:href=\"#mb70658af13\" y=\"214.756364\"/>\r\n     <use style=\"fill:#ff0000;stroke:#ff0000;\" x=\"114.655594\" xlink:href=\"#mb70658af13\" y=\"214.756364\"/>\r\n     <use style=\"fill:#ff0000;stroke:#ff0000;\" x=\"125.150891\" xlink:href=\"#mb70658af13\" y=\"115.92\"/>\r\n     <use style=\"fill:#ff0000;stroke:#ff0000;\" x=\"135.646189\" xlink:href=\"#mb70658af13\" y=\"17.083636\"/>\r\n     <use style=\"fill:#ff0000;stroke:#ff0000;\" x=\"146.141487\" xlink:href=\"#mb70658af13\" y=\"214.756364\"/>\r\n     <use style=\"fill:#ff0000;stroke:#ff0000;\" x=\"156.636785\" xlink:href=\"#mb70658af13\" y=\"214.756364\"/>\r\n     <use style=\"fill:#ff0000;stroke:#ff0000;\" x=\"167.132083\" xlink:href=\"#mb70658af13\" y=\"115.92\"/>\r\n     <use style=\"fill:#ff0000;stroke:#ff0000;\" x=\"177.62738\" xlink:href=\"#mb70658af13\" y=\"214.756364\"/>\r\n     <use style=\"fill:#ff0000;stroke:#ff0000;\" x=\"188.122678\" xlink:href=\"#mb70658af13\" y=\"214.756364\"/>\r\n     <use style=\"fill:#ff0000;stroke:#ff0000;\" x=\"198.617976\" xlink:href=\"#mb70658af13\" y=\"214.756364\"/>\r\n     <use style=\"fill:#ff0000;stroke:#ff0000;\" x=\"209.113274\" xlink:href=\"#mb70658af13\" y=\"17.083636\"/>\r\n     <use style=\"fill:#ff0000;stroke:#ff0000;\" x=\"219.608572\" xlink:href=\"#mb70658af13\" y=\"17.083636\"/>\r\n     <use style=\"fill:#ff0000;stroke:#ff0000;\" x=\"230.10387\" xlink:href=\"#mb70658af13\" y=\"214.756364\"/>\r\n     <use style=\"fill:#ff0000;stroke:#ff0000;\" x=\"240.599167\" xlink:href=\"#mb70658af13\" y=\"115.92\"/>\r\n     <use style=\"fill:#ff0000;stroke:#ff0000;\" x=\"251.094465\" xlink:href=\"#mb70658af13\" y=\"115.92\"/>\r\n     <use style=\"fill:#ff0000;stroke:#ff0000;\" x=\"261.589763\" xlink:href=\"#mb70658af13\" y=\"17.083636\"/>\r\n     <use style=\"fill:#ff0000;stroke:#ff0000;\" x=\"272.085061\" xlink:href=\"#mb70658af13\" y=\"214.756364\"/>\r\n     <use style=\"fill:#ff0000;stroke:#ff0000;\" x=\"282.580359\" xlink:href=\"#mb70658af13\" y=\"214.756364\"/>\r\n     <use style=\"fill:#ff0000;stroke:#ff0000;\" x=\"293.075656\" xlink:href=\"#mb70658af13\" y=\"17.083636\"/>\r\n     <use style=\"fill:#ff0000;stroke:#ff0000;\" x=\"303.570954\" xlink:href=\"#mb70658af13\" y=\"115.92\"/>\r\n     <use style=\"fill:#ff0000;stroke:#ff0000;\" x=\"314.066252\" xlink:href=\"#mb70658af13\" y=\"115.92\"/>\r\n     <use style=\"fill:#ff0000;stroke:#ff0000;\" x=\"324.56155\" xlink:href=\"#mb70658af13\" y=\"115.92\"/>\r\n     <use style=\"fill:#ff0000;stroke:#ff0000;\" x=\"335.056848\" xlink:href=\"#mb70658af13\" y=\"17.083636\"/>\r\n     <use style=\"fill:#ff0000;stroke:#ff0000;\" x=\"345.552145\" xlink:href=\"#mb70658af13\" y=\"115.92\"/>\r\n     <use style=\"fill:#ff0000;stroke:#ff0000;\" x=\"356.047443\" xlink:href=\"#mb70658af13\" y=\"17.083636\"/>\r\n    </g>\r\n   </g>\r\n   <g id=\"line2d_18\">\r\n    <defs>\r\n     <path d=\"M 0 1.5 \r\nC 0.397805 1.5 0.77937 1.341951 1.06066 1.06066 \r\nC 1.341951 0.77937 1.5 0.397805 1.5 0 \r\nC 1.5 -0.397805 1.341951 -0.77937 1.06066 -1.06066 \r\nC 0.77937 -1.341951 0.397805 -1.5 0 -1.5 \r\nC -0.397805 -1.5 -0.77937 -1.341951 -1.06066 -1.06066 \r\nC -1.341951 -0.77937 -1.5 -0.397805 -1.5 0 \r\nC -1.5 0.397805 -1.341951 0.77937 -1.06066 1.06066 \r\nC -0.77937 1.341951 -0.397805 1.5 0 1.5 \r\nz\r\n\" id=\"ma63d72c40f\" style=\"stroke:#0000ff;\"/>\r\n    </defs>\r\n    <g clip-path=\"url(#pdc8aefebbe)\">\r\n     <use style=\"fill:#0000ff;stroke:#0000ff;\" x=\"51.683807\" xlink:href=\"#ma63d72c40f\" y=\"214.756364\"/>\r\n     <use style=\"fill:#0000ff;stroke:#0000ff;\" x=\"62.179105\" xlink:href=\"#ma63d72c40f\" y=\"214.756364\"/>\r\n     <use style=\"fill:#0000ff;stroke:#0000ff;\" x=\"72.674402\" xlink:href=\"#ma63d72c40f\" y=\"214.756364\"/>\r\n     <use style=\"fill:#0000ff;stroke:#0000ff;\" x=\"83.1697\" xlink:href=\"#ma63d72c40f\" y=\"115.92\"/>\r\n     <use style=\"fill:#0000ff;stroke:#0000ff;\" x=\"93.664998\" xlink:href=\"#ma63d72c40f\" y=\"214.756364\"/>\r\n     <use style=\"fill:#0000ff;stroke:#0000ff;\" x=\"104.160296\" xlink:href=\"#ma63d72c40f\" y=\"17.083636\"/>\r\n     <use style=\"fill:#0000ff;stroke:#0000ff;\" x=\"114.655594\" xlink:href=\"#ma63d72c40f\" y=\"115.92\"/>\r\n     <use style=\"fill:#0000ff;stroke:#0000ff;\" x=\"125.150891\" xlink:href=\"#ma63d72c40f\" y=\"214.756364\"/>\r\n     <use style=\"fill:#0000ff;stroke:#0000ff;\" x=\"135.646189\" xlink:href=\"#ma63d72c40f\" y=\"17.083636\"/>\r\n     <use style=\"fill:#0000ff;stroke:#0000ff;\" x=\"146.141487\" xlink:href=\"#ma63d72c40f\" y=\"214.756364\"/>\r\n     <use style=\"fill:#0000ff;stroke:#0000ff;\" x=\"156.636785\" xlink:href=\"#ma63d72c40f\" y=\"115.92\"/>\r\n     <use style=\"fill:#0000ff;stroke:#0000ff;\" x=\"167.132083\" xlink:href=\"#ma63d72c40f\" y=\"115.92\"/>\r\n     <use style=\"fill:#0000ff;stroke:#0000ff;\" x=\"177.62738\" xlink:href=\"#ma63d72c40f\" y=\"17.083636\"/>\r\n     <use style=\"fill:#0000ff;stroke:#0000ff;\" x=\"188.122678\" xlink:href=\"#ma63d72c40f\" y=\"115.92\"/>\r\n     <use style=\"fill:#0000ff;stroke:#0000ff;\" x=\"198.617976\" xlink:href=\"#ma63d72c40f\" y=\"214.756364\"/>\r\n     <use style=\"fill:#0000ff;stroke:#0000ff;\" x=\"209.113274\" xlink:href=\"#ma63d72c40f\" y=\"214.756364\"/>\r\n     <use style=\"fill:#0000ff;stroke:#0000ff;\" x=\"219.608572\" xlink:href=\"#ma63d72c40f\" y=\"17.083636\"/>\r\n     <use style=\"fill:#0000ff;stroke:#0000ff;\" x=\"230.10387\" xlink:href=\"#ma63d72c40f\" y=\"115.92\"/>\r\n     <use style=\"fill:#0000ff;stroke:#0000ff;\" x=\"240.599167\" xlink:href=\"#ma63d72c40f\" y=\"17.083636\"/>\r\n     <use style=\"fill:#0000ff;stroke:#0000ff;\" x=\"251.094465\" xlink:href=\"#ma63d72c40f\" y=\"214.756364\"/>\r\n     <use style=\"fill:#0000ff;stroke:#0000ff;\" x=\"261.589763\" xlink:href=\"#ma63d72c40f\" y=\"115.92\"/>\r\n     <use style=\"fill:#0000ff;stroke:#0000ff;\" x=\"272.085061\" xlink:href=\"#ma63d72c40f\" y=\"115.92\"/>\r\n     <use style=\"fill:#0000ff;stroke:#0000ff;\" x=\"282.580359\" xlink:href=\"#ma63d72c40f\" y=\"214.756364\"/>\r\n     <use style=\"fill:#0000ff;stroke:#0000ff;\" x=\"293.075656\" xlink:href=\"#ma63d72c40f\" y=\"17.083636\"/>\r\n     <use style=\"fill:#0000ff;stroke:#0000ff;\" x=\"303.570954\" xlink:href=\"#ma63d72c40f\" y=\"115.92\"/>\r\n     <use style=\"fill:#0000ff;stroke:#0000ff;\" x=\"314.066252\" xlink:href=\"#ma63d72c40f\" y=\"115.92\"/>\r\n     <use style=\"fill:#0000ff;stroke:#0000ff;\" x=\"324.56155\" xlink:href=\"#ma63d72c40f\" y=\"115.92\"/>\r\n     <use style=\"fill:#0000ff;stroke:#0000ff;\" x=\"335.056848\" xlink:href=\"#ma63d72c40f\" y=\"17.083636\"/>\r\n     <use style=\"fill:#0000ff;stroke:#0000ff;\" x=\"345.552145\" xlink:href=\"#ma63d72c40f\" y=\"214.756364\"/>\r\n     <use style=\"fill:#0000ff;stroke:#0000ff;\" x=\"356.047443\" xlink:href=\"#ma63d72c40f\" y=\"17.083636\"/>\r\n    </g>\r\n   </g>\r\n   <g id=\"patch_3\">\r\n    <path d=\"M 36.465625 224.64 \r\nL 36.465625 7.2 \r\n\" style=\"fill:none;stroke:#000000;stroke-linecap:square;stroke-linejoin:miter;stroke-width:0.8;\"/>\r\n   </g>\r\n   <g id=\"patch_4\">\r\n    <path d=\"M 371.265625 224.64 \r\nL 371.265625 7.2 \r\n\" style=\"fill:none;stroke:#000000;stroke-linecap:square;stroke-linejoin:miter;stroke-width:0.8;\"/>\r\n   </g>\r\n   <g id=\"patch_5\">\r\n    <path d=\"M 36.465625 224.64 \r\nL 371.265625 224.64 \r\n\" style=\"fill:none;stroke:#000000;stroke-linecap:square;stroke-linejoin:miter;stroke-width:0.8;\"/>\r\n   </g>\r\n   <g id=\"patch_6\">\r\n    <path d=\"M 36.465625 7.2 \r\nL 371.265625 7.2 \r\n\" style=\"fill:none;stroke:#000000;stroke-linecap:square;stroke-linejoin:miter;stroke-width:0.8;\"/>\r\n   </g>\r\n  </g>\r\n </g>\r\n <defs>\r\n  <clipPath id=\"pdc8aefebbe\">\r\n   <rect height=\"217.44\" width=\"334.8\" x=\"36.465625\" y=\"7.2\"/>\r\n  </clipPath>\r\n </defs>\r\n</svg>\r\n",
      "text/plain": "<Figure size 432x288 with 1 Axes>"
     },
     "metadata": {
      "needs_background": "light"
     },
     "output_type": "display_data"
    }
   ],
   "source": [
    "net=NeuralNet(eta=0.01,batchsize=120,epoch=1000,inputsize=4,outputsize=3)\n",
    "new_label=net.onehot(train_label)\n",
    "net.trainwithoutnor(data=train_data,label=new_label)\n",
    "print(net.W)\n",
    "print(net.B)\n",
    "pre_label=[]\n",
    "for i in range(result.shape[0]):\n",
    "    result[i]=net.inferencewithoutnor(test_data[i].reshape(1,4))\n",
    "for i in range(result.shape[0]):\n",
    "    pre_label.append(np.argmax(result[i]))\n",
    "print(test_label)\n",
    "print(np.array(pre_label))\n",
    "success_rate=0\n",
    "success=0\n",
    "for i in range(result.shape[0]):\n",
    "    if test_label[i]==pre_label[i]:\n",
    "        success+=1\n",
    "success_rate=success/30.0\n",
    "print(success_rate)\n",
    "\n",
    "plt.plot(test_label,'.',c='r')\n",
    "plt.plot(pre_label,'.',c='b')"
   ]
  }
 ]
}